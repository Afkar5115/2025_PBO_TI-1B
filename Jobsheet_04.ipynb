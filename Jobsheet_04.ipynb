{
  "nbformat": 4,
  "nbformat_minor": 0,
  "metadata": {
    "colab": {
      "provenance": [],
      "authorship_tag": "ABX9TyO0pnAfQsaBrhcFmLqQLk2r",
      "include_colab_link": true
    },
    "kernelspec": {
      "name": "python3",
      "display_name": "Python 3"
    },
    "language_info": {
      "name": "python"
    }
  },
  "cells": [
    {
      "cell_type": "markdown",
      "metadata": {
        "id": "view-in-github",
        "colab_type": "text"
      },
      "source": [
        "<a href=\"https://colab.research.google.com/github/Afkar5115/2025_PBO_TI-1B/blob/main/Jobsheet_04.ipynb\" target=\"_parent\"><img src=\"https://colab.research.google.com/assets/colab-badge.svg\" alt=\"Open In Colab\"/></a>"
      ]
    },
    {
      "cell_type": "markdown",
      "source": [
        "# JOBSHEET 04: MEMAHAMI PEWARISAN (INHERITANCE) DALAM PYTHON"
      ],
      "metadata": {
        "id": "zZfRy-CFTLMg"
      }
    },
    {
      "cell_type": "markdown",
      "source": [
        "## Praktikum"
      ],
      "metadata": {
        "id": "lLCfDzt5TUKL"
      }
    },
    {
      "cell_type": "markdown",
      "source": [
        "### Praktikum 01: Inheritance Dasar"
      ],
      "metadata": {
        "id": "9zh0_3CZTauT"
      }
    },
    {
      "cell_type": "code",
      "source": [
        "# Kelas Induk\n",
        "class Kendaraan:\n",
        "  def __init__(self, merk):\n",
        "      self.merk = merk\n",
        "\n",
        "  def mulai_mesin(self):\n",
        "      print(f\"Mesin kendaraan {self.merk} dinyalakan.\")\n",
        "\n",
        "# Kelas Anak (mewarisi dari Kendaraan)\n",
        "class Mobil(Kendaraan):\n",
        "  def __init__(self, merk, warna):\n",
        "      # Memanggil __init__ kelas induk (akan dibahas di praktikum 2)\n",
        "      # Untuk sekarang, kita set merk secara manual\n",
        "      self.merk = merk # Mewarisi 'merk' tapi di-set ulang di sini\n",
        "      self.warna = warna # Atribut khusus Mobil\n",
        "\n",
        "  def info_mobil(self):\n",
        "      print(f\"Ini adalah mobil {self.merk} berwarna {self.warna}.\")\n",
        "\n",
        "# --- Kode Utama ---\n",
        "if __name__ == \"__main__\":\n",
        "    mobil_tesla = Mobil(\"Tesla Model S\", \"Merah\")\n",
        "\n",
        "    # Memanggil metode dari kelas anak\n",
        "    mobil_tesla.info_mobil()\n",
        "\n",
        "    # Memanggil metode yang diwariskan dari kelas induk\n",
        "    mobil_tesla.mulai_mesin()\n",
        "\n",
        "    # Mengakses atribut yang di wariskan (dan di-set di anak)\n",
        "    print(f\"Merk mobil: {mobil_tesla.merk}\")"
      ],
      "metadata": {
        "colab": {
          "base_uri": "https://localhost:8080/"
        },
        "id": "vOb52p_mTpu_",
        "outputId": "8705e3c8-1425-49a2-c2f9-8700b39c2ec4"
      },
      "execution_count": null,
      "outputs": [
        {
          "output_type": "stream",
          "name": "stdout",
          "text": [
            "Ini adalah mobil Tesla Model S berwarna Merah.\n",
            "Mesin kendaraan Tesla Model S dinyalakan.\n",
            "Merk mobil: Tesla Model S\n"
          ]
        }
      ]
    },
    {
      "cell_type": "markdown",
      "source": [
        "### Praktikum 02: Menggunakan super() dalam konstruktor"
      ],
      "metadata": {
        "id": "Ck-xk0AQZB2_"
      }
    },
    {
      "cell_type": "code",
      "source": [
        "# Kelas Induk\n",
        "class Person:\n",
        "  def __init__(self, nama, usia):\n",
        "      print(f\"(Memanggil __init__ Person untuk '{nama}')\")\n",
        "      self.nama = nama\n",
        "      self.usia = usia\n",
        "\n",
        "  def perkenalan_diri(self):\n",
        "      print(f\"Halo, nama saya {self.nama}, usia saya {self.usia} tahun.\")\n",
        "\n",
        "# Kelas Anak (mewarisi dari Person)\n",
        "class Student(Person):\n",
        "  def __init__(self, nama, usia, student_id, jurusan):\n",
        "      print(f\"(Memanggil __init__ Student untuk '{nama}')\")\n",
        "      # Memanggil __init__ dari Person untuk inisialisasi nama dan usia\n",
        "      super().__init__(nama, usia)\n",
        "      # Menambahkan atribut khusus Student\n",
        "      self.student_id = student_id\n",
        "      self.jurusan = jurusan\n",
        "      print(f\"(Inisialisasi atribut Student selesai untuk '{nama}')\")\n",
        "\n",
        "  def info_akademik(self):\n",
        "      print(f\"ID Mahasiswa: {self.student_id}\")\n",
        "      print(f\"Jurusan: {self.jurusan}\")\n",
        "\n",
        "  # Override perkenalan_diri untuk menambahkan info student\n",
        "  def perkenalan_diri(self):\n",
        "      super().perkenalan_diri() # Panggil versi Person\n",
        "      print(f\"Saya adalah mahasiswa dengan ID {self.student_id}, jurusan {self.jurusan}.\")\n",
        "\n",
        "# --- Kode Utama ---\n",
        "if __name__ == \"__main__\":\n",
        "  # Membuat objek Person\n",
        "  dosen = Person(\"Pak Anton\", 45)\n",
        "  print(\"-\" * 20)\n",
        "  dosen.perkenalan_diri()\n",
        "  print(\"\\n\" + \"=\" * 30 + \"\\n\")\n",
        "  # Membuat Objek Student\n",
        "  mahasiswa = Student(\"Dewi\", 20, \"MHS001\", \"Teknik Komputer\")\n",
        "  print(\"-\" * 20)\n",
        "  mahasiswa.perkenalan_diri() # Panggil versi override di Student\n",
        "  print(\"-\" * 20)\n",
        "  mahasiswa.info_akademik() # Panggil versi khusus Student\n",
        "\n",
        "  # Cek atribut yang diwarisi\n",
        "  print(f\"\\nUsia mahasiswa {mahasiswa.nama}: {mahasiswa.usia}\") # usia diwarisi dari Person"
      ],
      "metadata": {
        "colab": {
          "base_uri": "https://localhost:8080/"
        },
        "id": "N-b_iLNqZJK1",
        "outputId": "e12a43de-f60b-4175-9d40-5039a7d78e02"
      },
      "execution_count": null,
      "outputs": [
        {
          "output_type": "stream",
          "name": "stdout",
          "text": [
            "(Memanggil __init__ Person untuk 'Pak Anton')\n",
            "--------------------\n",
            "Halo, nama saya Pak Anton, usia saya 45 tahun.\n",
            "\n",
            "==============================\n",
            "\n",
            "(Memanggil __init__ Student untuk 'Dewi')\n",
            "(Memanggil __init__ Person untuk 'Dewi')\n",
            "(Inisialisasi atribut Student selesai untuk 'Dewi')\n",
            "--------------------\n",
            "Halo, nama saya Dewi, usia saya 20 tahun.\n",
            "Saya adalah mahasiswa dengan ID MHS001, jurusan Teknik Komputer.\n",
            "--------------------\n",
            "ID Mahasiswa: MHS001\n",
            "Jurusan: Teknik Komputer\n",
            "\n",
            "Usia mahasiswa Dewi: 20\n"
          ]
        }
      ]
    },
    {
      "cell_type": "markdown",
      "source": [
        "### Praktikum 03: Method Overriding dan super()"
      ],
      "metadata": {
        "id": "zefUS169hJkN"
      }
    },
    {
      "cell_type": "code",
      "source": [
        "# Kelas Induk\n",
        "class Hewan:\n",
        "    def __init__(self, nama):\n",
        "        self.nama = nama\n",
        "\n",
        "    def bersuara(self):\n",
        "        print(f\"{self.nama} mengeluarkan suara generik.\")\n",
        "\n",
        "    def tampilkan_info(self):\n",
        "        print(f\"Ini adalah hewan bernama {self.nama}.\")\n",
        "\n",
        "# Kelas Anak\n",
        "class Kucing(Hewan):\n",
        "    def __init__(self, nama, ras):\n",
        "        super().__init__(nama) # Panggilan init induk\n",
        "        self.ras = ras\n",
        "\n",
        "    # Method Override untuk bersuara\n",
        "    def bersuara(self):\n",
        "        print(f\"{self.nama} mengeong: Meow!\")\n",
        "\n",
        "    # Method Override untuk tampilkan_info, memanggil versi induk\n",
        "    def tampilkan_info(self):\n",
        "        super().tampilkan_info() # Panggil implementasi dari Hewan\n",
        "        print(f\"Ini adalah kucing ras {self.ras}.\") # Tambahkan info spesifik\n",
        "\n",
        "# -- Kode Utama --\n",
        "if __name__ == \"__main__\":\n",
        "    hewan_umum = Hewan(\"Makhluk\")\n",
        "    kucing_persia = Kucing(\"Puspus\", \"Persia\")\n",
        "\n",
        "    print(\"Info Hewan Umum:\")\n",
        "    hewan_umum.tampilkan_info()\n",
        "    hewan_umum.bersuara()\n",
        "    print(\"-\" * 20)\n",
        "\n",
        "    print(\"Info Kucing Persia:\")\n",
        "    kucing_persia.tampilkan_info() # Akan memanggil versi Kucing\n",
        "    kucing_persia.bersuara() # Akan memanggil versi Kucing"
      ],
      "metadata": {
        "colab": {
          "base_uri": "https://localhost:8080/"
        },
        "id": "hWds6p0chPdu",
        "outputId": "b9d09867-c464-49d0-bc63-753bf6ea4ebe"
      },
      "execution_count": null,
      "outputs": [
        {
          "output_type": "stream",
          "name": "stdout",
          "text": [
            "Info Hewan Umum:\n",
            "Ini adalah hewan bernama Makhluk.\n",
            "Makhluk mengeluarkan suara generik.\n",
            "--------------------\n",
            "Info Kucing Persia:\n",
            "Ini adalah hewan bernama Puspus.\n",
            "Ini adalah kucing ras Persia.\n",
            "Puspus mengeong: Meow!\n"
          ]
        }
      ]
    },
    {
      "cell_type": "markdown",
      "source": [
        "### Praktikum 04: Multi-level Inheritance (Pewarisan Bertingkat)"
      ],
      "metadata": {
        "id": "ANBBf-IbnbIv"
      }
    },
    {
      "cell_type": "code",
      "source": [
        "# Kelas Induk 1\n",
        "class Organisme:\n",
        "    def __init__(self, nama):\n",
        "      self.nama = nama\n",
        "      print(f\"Organisme  '{self.nama}' diciptakan.\")\n",
        "\n",
        "    def bernapas(self):\n",
        "      print(f\"{self.nama} sedang bernapas.\")\n",
        "\n",
        "# Kelas Anak Level 1 (mewarisi dari Organisme)\n",
        "class Hewan(Organisme):\n",
        "    def __init__(self, nama, jenis_makanan):\n",
        "      super().__init__(nama) # Panggil init Organisme\n",
        "      self.jenis_makanan = jenis_makanan\n",
        "      print(f\"Hewan '{self.nama}' adalah {self.jenis_makanan}.\")\n",
        "\n",
        "    def bergerak(self):\n",
        "      print(f\"{self.nama} sedang bergerak.\")\n",
        "\n",
        "# Kelas Anak Level 2 (mewarisi dari Hewan)\n",
        "class Mamalia(Hewan):\n",
        "    def __init__(self, nama, jenis_makanan, jumlah_kaki):\n",
        "      super().__init__(nama, jenis_makanan) # Panggil init Hewan\n",
        "      self.jumlah_kaki = jumlah_kaki\n",
        "      print(f\"Mamalia '{self.nama}' memiliki {self.jumlah_kaki} kaki.\")\n",
        "\n",
        "    def menyusui(self):\n",
        "      print(f\"{self.nama} sedang menyususi.\")\n",
        "\n",
        "# --- Kode Utama ---\n",
        "if __name__ == \"__main__\":\n",
        "    kucing = Mamalia(\"Kucing Persia\", \"Karnifora\", 4)\n",
        "    print(\"-\" * 20)\n",
        "\n",
        "    # Memanggil metode dari kelas Mamalia\n",
        "    kucing.menyusui()\n",
        "\n",
        "    # Memanggil metode yang diwariskan dari kelas Hewan\n",
        "    kucing.bergerak()\n",
        "    print(f\"Jenis makanan: {kucing.jenis_makanan}\")\n",
        "\n",
        "    # Memanggil metode yang di wariskan dari kelas Organisme\n",
        "    kucing.bernapas()\n",
        "    print(f\"Nama organisme: {kucing.nama}\")"
      ],
      "metadata": {
        "colab": {
          "base_uri": "https://localhost:8080/"
        },
        "id": "oxIPZM1engkt",
        "outputId": "77894960-da0f-4b82-d042-401a6ba7f2eb"
      },
      "execution_count": null,
      "outputs": [
        {
          "output_type": "stream",
          "name": "stdout",
          "text": [
            "Organisme  'Kucing Persia' diciptakan.\n",
            "Hewan 'Kucing Persia' adalah Karnifora.\n",
            "Mamalia 'Kucing Persia' memiliki 4 kaki.\n",
            "--------------------\n",
            "Kucing Persia sedang menyususi.\n",
            "Kucing Persia sedang bergerak.\n",
            "Jenis makanan: Karnifora\n",
            "Kucing Persia sedang bernapas.\n",
            "Nama organisme: Kucing Persia\n"
          ]
        }
      ]
    },
    {
      "cell_type": "markdown",
      "source": [
        "### Praktikum 05: Hierarchical Inheritance"
      ],
      "metadata": {
        "id": "amUfbt2QNdPJ"
      }
    },
    {
      "cell_type": "code",
      "source": [
        "import locale\n",
        "\n",
        "# Set locale ke Indonesia untuk format mata uang\n",
        "try:\n",
        "    locale.setlocale(locale.LC_ALL, 'id_ID.UTF-8')\n",
        "except locale.Error:\n",
        "    print(\"Locale id_ID.UTF-8 tidak tersedia, menggunakan locale default.\")\n",
        "\n",
        "# Fungsi helper untuk format mata uang\n",
        "def format_rupiah(angka):\n",
        "    return f\"Rp {angka:,.0f}\".replace(\",\", \".\")\n",
        "\n",
        "\n",
        "# Kelas Induk\n",
        "class Pegawai:\n",
        "    def __init__(self, nama, id_pegawai, gaji_pokok):\n",
        "        self.nama = nama\n",
        "        self.id_pegawai = id_pegawai\n",
        "        self.gaji_pokok = gaji_pokok\n",
        "\n",
        "    def hitung_gaji(self):\n",
        "        # Gaji dasar, bisa di-override\n",
        "        return self.gaji_pokok\n",
        "\n",
        "    def tampilkan_info(self):\n",
        "        print(f\"ID: {self.id_pegawai}, Nama: {self.nama}\")\n",
        "        print(f\"  Gaji Pokok: {format_rupiah(self.gaji_pokok)}\")\n",
        "\n",
        "# Kelas Anak 1\n",
        "class Manager(Pegawai):\n",
        "    def __init__(self, nama, id_pegawai, gaji_pokok, tunjangan_jabatan):\n",
        "        super().__init__(nama, id_pegawai, gaji_pokok)\n",
        "        self.tunjangan_jabatan = tunjangan_jabatan\n",
        "\n",
        "    # Override hitung_gaji\n",
        "    def hitung_gaji(self):\n",
        "        gaji_total = super().hitung_gaji() + self.tunjangan_jabatan\n",
        "        return gaji_total\n",
        "\n",
        "    # Override tampilkan_info (memanggil versi induk)\n",
        "    def tampilkan_info(self):\n",
        "        print(\"--- Info Manager ---\")\n",
        "        super().tampilkan_info()\n",
        "        print(f\" Tunjangan Jabatan: {format_rupiah(self.tunjangan_jabatan)}\")\n",
        "        print(f\" Total Gaji: {format_rupiah(self.hitung_gaji())}\")\n",
        "\n",
        "# Kelas Anak 2\n",
        "class StafTeknis(Pegawai):\n",
        "    def __init__(self, nama, id_pegawai, gaji_pokok, keahlian, bonus_keahlian):\n",
        "        super().__init__(nama, id_pegawai, gaji_pokok)\n",
        "        self.keahlian = keahlian\n",
        "        self.bonus_keahlian = bonus_keahlian\n",
        "\n",
        "    # Override hitung_gaji\n",
        "    def hitung_gaji(self):\n",
        "        gaji_total = super().hitung_gaji() + self.bonus_keahlian\n",
        "        return gaji_total\n",
        "\n",
        "    # Override tampilkan_info (memanggil versi induk)\n",
        "    def tampilkan_info(self):\n",
        "        print(\"-- Info Staf Teknis ----\")\n",
        "        super().tampilkan_info()\n",
        "        print(f\" Keahlian: {self.keahlian}\")\n",
        "        print(f\" Bonus Keahlian: {format_rupiah(self.bonus_keahlian)}\")\n",
        "        print(f\" Total Gaji: {format_rupiah(self.hitung_gaji())}\")\n",
        "\n",
        "# --- Kode Utama ---\n",
        "if __name__ == \"__main__\":\n",
        "    manager1 = Manager(\"Budi Santoso\", \"M001\", 1000000, 5000000)\n",
        "    staf1 = StafTeknis(\"Citra Lestari\", \"S001\", 7000000, \"Python Programming\", 1500000)\n",
        "    pegawai_baru = Pegawai(\"Rian\", \"P005\", 5000000)\n",
        "\n",
        "    print(\"Menampilkan Informasi Pegawai:\")\n",
        "    manager1.tampilkan_info()\n",
        "    print(\"-\" * 30)\n",
        "    staf1.tampilkan_info()\n",
        "    print(\"-\" * 30)\n",
        "\n",
        "    print(\"--- Info Pegawai Baru ---\")\n",
        "    pegawai_baru.tampilkan_info()\n",
        "    print(f\" Total Gaji: {format_rupiah(pegawai_baru.hitung_gaji())}\")\n",
        "    print(\"-\" * 30)"
      ],
      "metadata": {
        "id": "K0LZGOm4Npws",
        "outputId": "a78b9d30-ff3e-42ae-cc74-b33919813f82",
        "colab": {
          "base_uri": "https://localhost:8080/"
        }
      },
      "execution_count": null,
      "outputs": [
        {
          "output_type": "stream",
          "name": "stdout",
          "text": [
            "Locale id_ID.UTF-8 tidak tersedia, menggunakan locale default.\n",
            "Menampilkan Informasi Pegawai:\n",
            "--- Info Manager ---\n",
            "ID: M001, Nama: Budi Santoso\n",
            "  Gaji Pokok: Rp 1.000.000\n",
            " Tunjangan Jabatan: Rp 5.000.000\n",
            " Total Gaji: Rp 6.000.000\n",
            "------------------------------\n",
            "-- Info Staf Teknis ----\n",
            "ID: S001, Nama: Citra Lestari\n",
            "  Gaji Pokok: Rp 7.000.000\n",
            " Keahlian: Python Programming\n",
            " Bonus Keahlian: Rp 1.500.000\n",
            " Total Gaji: Rp 8.500.000\n",
            "------------------------------\n",
            "--- Info Pegawai Baru ---\n",
            "ID: P005, Nama: Rian\n",
            "  Gaji Pokok: Rp 5.000.000\n",
            " Total Gaji: Rp 5.000.000\n",
            "------------------------------\n"
          ]
        }
      ]
    },
    {
      "cell_type": "markdown",
      "source": [
        "### Praktikum 06: Memeriksa Tipe Instance dengan instance()"
      ],
      "metadata": {
        "id": "3MZvWpg_cziS"
      }
    },
    {
      "cell_type": "code",
      "source": [
        "class BentukGeometri:\n",
        "  def __init__(self, nama_bentuk):\n",
        "    self.nama = nama_bentuk\n",
        "  def tampilkan_nama(self):\n",
        "    print(f\"Ini adalah Bentuk: {self.nama}\")\n",
        "  def hitung_luas(self):\n",
        "    print(f\"Luas {self.nama} tidak dapat dihitung (generik).\")\n",
        "\n",
        "class PersegiPanjang(BentukGeometri):\n",
        "  def __init__(self, panjang, lebar):\n",
        "    super().__init__(\"PersegiPanjang\")\n",
        "    self.panjang = panjang\n",
        "    self.lebar = lebar\n",
        "  def hitung_luas(self):\n",
        "    luas = self.panjang * self.lebar\n",
        "    print(f\"Luas {self.nama}: {luas}\")\n",
        "\n",
        "class Segitiga(BentukGeometri):\n",
        "  def __init__(self, alas, tinggi):\n",
        "    super().__init__(\"Segitiga\")\n",
        "    self.alas = alas\n",
        "    self.tinggi = tinggi\n",
        "  def hitung_luas(self):\n",
        "    luas = 0.5 * self.alas * self.tinggi\n",
        "    print(f\"Luas {self.nama}: {luas}\")\n",
        "\n",
        "def proses_bentuk(bentuk):\n",
        "  print(f\"\\nMemproses objek: {type(bentuk)}\")\n",
        "\n",
        "  if isinstance(bentuk, BentukGeometri):\n",
        "    bentuk.tampilkan_nama()\n",
        "    print(\"Objek ini adalah instance dari BentukGeometri (atau turunannya).\")\n",
        "\n",
        "    if isinstance(bentuk, PersegiPanjang):\n",
        "      print(\"-> Objek ini juga instance dari PersegiPanjang.\")\n",
        "    elif isinstance(bentuk, Segitiga):\n",
        "      print(\"-> Objek ini juga instance dari Segitiga.\")\n",
        "  else:\n",
        "    print(\"Objek ini BUKAN instance dari BentukGeometri.\")\n",
        "\n",
        "  if isinstance(bentuk, str):\n",
        "    print(\"Objek ini adalah string.\")\n",
        "\n",
        "# --- Kode Utama ---\n",
        "if __name__ == \"__main__\":\n",
        "  pp = PersegiPanjang(4,3)\n",
        "  seg = Segitiga(5, 2)\n",
        "  bg = BentukGeometri(\"Lingkaran\") # Contoh lain\n",
        "  teks = \"Ini string\"\n",
        "\n",
        "  daftar_objek = [pp, seg, bg, teks]\n",
        "\n",
        "  for obj in daftar_objek:\n",
        "    proses_bentuk(obj)"
      ],
      "metadata": {
        "id": "VHHndEh6c5Pv",
        "outputId": "73aea09e-c036-4c15-e369-f3160e3e794d",
        "colab": {
          "base_uri": "https://localhost:8080/"
        }
      },
      "execution_count": null,
      "outputs": [
        {
          "output_type": "stream",
          "name": "stdout",
          "text": [
            "\n",
            "Memproses objek: <class '__main__.PersegiPanjang'>\n",
            "Ini adalah Bentuk: PersegiPanjang\n",
            "Objek ini adalah instance dari BentukGeometri (atau turunannya).\n",
            "-> Objek ini juga instance dari PersegiPanjang.\n",
            "\n",
            "Memproses objek: <class '__main__.Segitiga'>\n",
            "Ini adalah Bentuk: Segitiga\n",
            "Objek ini adalah instance dari BentukGeometri (atau turunannya).\n",
            "-> Objek ini juga instance dari Segitiga.\n",
            "\n",
            "Memproses objek: <class '__main__.BentukGeometri'>\n",
            "Ini adalah Bentuk: Lingkaran\n",
            "Objek ini adalah instance dari BentukGeometri (atau turunannya).\n",
            "\n",
            "Memproses objek: <class 'str'>\n",
            "Objek ini BUKAN instance dari BentukGeometri.\n",
            "Objek ini adalah string.\n"
          ]
        }
      ]
    },
    {
      "cell_type": "markdown",
      "source": [
        "## Penugasan"
      ],
      "metadata": {
        "id": "lJL1zOTAjyQ-"
      }
    },
    {
      "cell_type": "code",
      "source": [
        "class Mahasiswa:\n",
        "    def __init__(self, nama: str, nim: str, ipk: float):\n",
        "        self.nama = nama\n",
        "        self.nim = nim\n",
        "        self.ipk = ipk\n",
        "\n",
        "    def tampilkan_info(self):\n",
        "        print(f\"Nama: {self.nama}\")\n",
        "        print(f\"NIM: {self.nim}\")\n",
        "        print(f\"IPK: {self.ipk}\")\n",
        "\n",
        "    def hitung_predikat(self):\n",
        "        if self.ipk >= 3.5:\n",
        "            return \"Dengan Pujian\"\n",
        "        elif self.ipk >= 3.0:\n",
        "            return \"Sangat Memuaskan\"\n",
        "        elif self.ipk >= 2.5:\n",
        "            return \"Memuaskan\"\n",
        "        else:\n",
        "            return \"Cukup\"\n",
        "\n",
        "\n",
        "class MahasiswaSarjana(Mahasiswa):\n",
        "    def __init__(self, nama: str, nim: str, ipk: float, semester: int, sks_lulus: int):\n",
        "        super().__init__(nama, nim, ipk)\n",
        "        self.semester = semester\n",
        "        self.sks_lulus = sks_lulus\n",
        "\n",
        "    def tampilkan_info(self):\n",
        "        super().tampilkan_info()\n",
        "        print(f\"Semester: {self.semester}\")\n",
        "        print(f\"SKS Lulus: {self.sks_lulus}\")\n",
        "\n",
        "\n",
        "class MahasiswaMagister(Mahasiswa):\n",
        "    def __init__(self, nama: str, nim: str, ipk: float, judul_tesis: str, nama_pembimbing: str):\n",
        "        super().__init__(nama, nim, ipk)\n",
        "        self.judul_tesis = judul_tesis\n",
        "        self.nama_pembimbing = nama_pembimbing\n",
        "\n",
        "    def tampilkan_info(self):\n",
        "        super().tampilkan_info()\n",
        "        print(f\"Judul Tesis: {self.judul_tesis}\")\n",
        "        print(f\"Pembimbing: {self.nama_pembimbing}\")\n",
        "\n",
        "    # Override metode hitung_predikat untuk Magister (opsional)\n",
        "    def hitung_predikat(self):\n",
        "        if self.ipk >= 3.75:\n",
        "            return \"Dengan Pujian (Cum Laude)\"\n",
        "        elif self.ipk >= 3.5:\n",
        "            return \"Sangat Memuaskan (Magna Cum Laude)\"\n",
        "        elif self.ipk >= 3.0:\n",
        "            return \"Memuaskan (Cum Laude)\"\n",
        "        else:\n",
        "            return \"Cukup\"\n",
        "\n",
        "\n",
        "# Contoh penggunaan\n",
        "if __name__ == \"__main__\":\n",
        "    print(\"=== Mahasiswa ===\")\n",
        "    mhs1 = Mahasiswa(\"Budi Santoso\", \"123456789\", 3.2)\n",
        "    mhs1.tampilkan_info()\n",
        "    print(f\"Predikat: {mhs1.hitung_predikat()}\")\n",
        "    print(\"\\n\")\n",
        "\n",
        "    print(\"=== Mahasiswa Sarjana ===\")\n",
        "    mhs_sarjana = MahasiswaSarjana(\"Ani Wijaya\", \"987654321\", 3.8, 6, 120)\n",
        "    mhs_sarjana.tampilkan_info()\n",
        "    print(f\"Predikat: {mhs_sarjana.hitung_predikat()}\")\n",
        "    print(\"\\n\")\n",
        "\n",
        "    print(\"=== Mahasiswa Magister ===\")\n",
        "    mhs_magister = MahasiswaMagister(\"Citra Dewi\", \"567891234\", 3.9,\n",
        "                                    \"Analisis Data Mining untuk Kesehatan\",\n",
        "                                    \"Prof. Dr. Ahmad Surya\")\n",
        "    mhs_magister.tampilkan_info()\n",
        "    print(f\"Predikat: {mhs_magister.hitung_predikat()}\")"
      ],
      "metadata": {
        "id": "4xaLS_bHj5s8",
        "outputId": "d25fbc99-1ce2-416a-a038-7d9099958309",
        "colab": {
          "base_uri": "https://localhost:8080/"
        }
      },
      "execution_count": 15,
      "outputs": [
        {
          "output_type": "stream",
          "name": "stdout",
          "text": [
            "=== Mahasiswa ===\n",
            "Nama: Budi Santoso\n",
            "NIM: 123456789\n",
            "IPK: 3.2\n",
            "Predikat: Sangat Memuaskan\n",
            "\n",
            "\n",
            "=== Mahasiswa Sarjana ===\n",
            "Nama: Ani Wijaya\n",
            "NIM: 987654321\n",
            "IPK: 3.8\n",
            "Semester: 6\n",
            "SKS Lulus: 120\n",
            "Predikat: Dengan Pujian\n",
            "\n",
            "\n",
            "=== Mahasiswa Magister ===\n",
            "Nama: Citra Dewi\n",
            "NIM: 567891234\n",
            "IPK: 3.9\n",
            "Judul Tesis: Analisis Data Mining untuk Kesehatan\n",
            "Pembimbing: Prof. Dr. Ahmad Surya\n",
            "Predikat: Dengan Pujian (Cum Laude)\n"
          ]
        }
      ]
    }
  ]
}