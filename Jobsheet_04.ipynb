{
  "nbformat": 4,
  "nbformat_minor": 0,
  "metadata": {
    "colab": {
      "provenance": [],
      "authorship_tag": "ABX9TyOJ219TypkpMc5I4N694o/T",
      "include_colab_link": true
    },
    "kernelspec": {
      "name": "python3",
      "display_name": "Python 3"
    },
    "language_info": {
      "name": "python"
    }
  },
  "cells": [
    {
      "cell_type": "markdown",
      "metadata": {
        "id": "view-in-github",
        "colab_type": "text"
      },
      "source": [
        "<a href=\"https://colab.research.google.com/github/Afkar5115/2025_PBO_TI-1B/blob/main/Jobsheet_04.ipynb\" target=\"_parent\"><img src=\"https://colab.research.google.com/assets/colab-badge.svg\" alt=\"Open In Colab\"/></a>"
      ]
    },
    {
      "cell_type": "markdown",
      "source": [
        "# JOBSHEET 04: MEMAHAMI PEWARISAN (INHERITANCE) DALAM PYTHON"
      ],
      "metadata": {
        "id": "zZfRy-CFTLMg"
      }
    },
    {
      "cell_type": "markdown",
      "source": [
        "## Praktikum"
      ],
      "metadata": {
        "id": "lLCfDzt5TUKL"
      }
    },
    {
      "cell_type": "markdown",
      "source": [
        "### Praktikum 01: Inheritance Dasar"
      ],
      "metadata": {
        "id": "9zh0_3CZTauT"
      }
    },
    {
      "cell_type": "code",
      "source": [
        "# Kelas Induk\n",
        "class Kendaraan:\n",
        "  def __init__(self, merk):\n",
        "      self.merk = merk\n",
        "\n",
        "  def mulai_mesin(self):\n",
        "      print(f\"Mesin kendaraan {self.merk} dinyalakan.\")\n",
        "\n",
        "# Kelas Anak (mewarisi dari Kendaraan)\n",
        "class Mobil(Kendaraan):\n",
        "  def __init__(self, merk, warna):\n",
        "      # Memanggil __init__ kelas induk (akan dibahas di praktikum 2)\n",
        "      # Untuk sekarang, kita set merk secara manual\n",
        "      self.merk = merk # Mewarisi 'merk' tapi di-set ulang di sini\n",
        "      self.warna = warna # Atribut khusus Mobil\n",
        "\n",
        "  def info_mobil(self):\n",
        "      print(f\"Ini adalah mobil {self.merk} berwarna {self.warna}.\")\n",
        "\n",
        "# --- Kode Utama ---\n",
        "if __name__ == \"__main__\":\n",
        "    mobil_tesla = Mobil(\"Tesla Model S\", \"Merah\")\n",
        "\n",
        "    # Memanggil metode dari kelas anak\n",
        "    mobil_tesla.info_mobil()\n",
        "\n",
        "    # Memanggil metode yang diwariskan dari kelas induk\n",
        "    mobil_tesla.mulai_mesin()\n",
        "\n",
        "    # Mengakses atribut yang di wariskan (dan di-set di anak)\n",
        "    print(f\"Merk mobil: {mobil_tesla.merk}\")"
      ],
      "metadata": {
        "colab": {
          "base_uri": "https://localhost:8080/"
        },
        "id": "vOb52p_mTpu_",
        "outputId": "8705e3c8-1425-49a2-c2f9-8700b39c2ec4"
      },
      "execution_count": null,
      "outputs": [
        {
          "output_type": "stream",
          "name": "stdout",
          "text": [
            "Ini adalah mobil Tesla Model S berwarna Merah.\n",
            "Mesin kendaraan Tesla Model S dinyalakan.\n",
            "Merk mobil: Tesla Model S\n"
          ]
        }
      ]
    },
    {
      "cell_type": "markdown",
      "source": [
        "### Praktikum 02: Menggunakan super() dalam konstruktor"
      ],
      "metadata": {
        "id": "Ck-xk0AQZB2_"
      }
    },
    {
      "cell_type": "code",
      "source": [
        "# Kelas Induk\n",
        "class Person:\n",
        "  def __init__(self, nama, usia):\n",
        "      print(f\"(Memanggil __init__ Person untuk '{nama}')\")\n",
        "      self.nama = nama\n",
        "      self.usia = usia\n",
        "\n",
        "  def perkenalan_diri(self):\n",
        "      print(f\"Halo, nama saya {self.nama}, usia saya {self.usia} tahun.\")\n",
        "\n",
        "# Kelas Anak (mewarisi dari Person)\n",
        "class Student(Person):\n",
        "  def __init__(self, nama, usia, student_id, jurusan):\n",
        "      print(f\"(Memanggil __init__ Student untuk '{nama}')\")\n",
        "      # Memanggil __init__ dari Person untuk inisialisasi nama dan usia\n",
        "      super().__init__(nama, usia)\n",
        "      # Menambahkan atribut khusus Student\n",
        "      self.student_id = student_id\n",
        "      self.jurusan = jurusan\n",
        "      print(f\"(Inisialisasi atribut Student selesai untuk '{nama}')\")\n",
        "\n",
        "  def info_akademik(self):\n",
        "      print(f\"ID Mahasiswa: {self.student_id}\")\n",
        "      print(f\"Jurusan: {self.jurusan}\")\n",
        "\n",
        "  # Override perkenalan_diri untuk menambahkan info student\n",
        "  def perkenalan_diri(self):\n",
        "      super().perkenalan_diri() # Panggil versi Person\n",
        "      print(f\"Saya adalah mahasiswa dengan ID {self.student_id}, jurusan {self.jurusan}.\")\n",
        "\n",
        "# --- Kode Utama ---\n",
        "if __name__ == \"__main__\":\n",
        "  # Membuat objek Person\n",
        "  dosen = Person(\"Pak Anton\", 45)\n",
        "  print(\"-\" * 20)\n",
        "  dosen.perkenalan_diri()\n",
        "  print(\"\\n\" + \"=\" * 30 + \"\\n\")\n",
        "  # Membuat Objek Student\n",
        "  mahasiswa = Student(\"Dewi\", 20, \"MHS001\", \"Teknik Komputer\")\n",
        "  print(\"-\" * 20)\n",
        "  mahasiswa.perkenalan_diri() # Panggil versi override di Student\n",
        "  print(\"-\" * 20)\n",
        "  mahasiswa.info_akademik() # Panggil versi khusus Student\n",
        "\n",
        "  # Cek atribut yang diwarisi\n",
        "  print(f\"\\nUsia mahasiswa {mahasiswa.nama}: {mahasiswa.usia}\") # usia diwarisi dari Person"
      ],
      "metadata": {
        "colab": {
          "base_uri": "https://localhost:8080/"
        },
        "id": "N-b_iLNqZJK1",
        "outputId": "e12a43de-f60b-4175-9d40-5039a7d78e02"
      },
      "execution_count": null,
      "outputs": [
        {
          "output_type": "stream",
          "name": "stdout",
          "text": [
            "(Memanggil __init__ Person untuk 'Pak Anton')\n",
            "--------------------\n",
            "Halo, nama saya Pak Anton, usia saya 45 tahun.\n",
            "\n",
            "==============================\n",
            "\n",
            "(Memanggil __init__ Student untuk 'Dewi')\n",
            "(Memanggil __init__ Person untuk 'Dewi')\n",
            "(Inisialisasi atribut Student selesai untuk 'Dewi')\n",
            "--------------------\n",
            "Halo, nama saya Dewi, usia saya 20 tahun.\n",
            "Saya adalah mahasiswa dengan ID MHS001, jurusan Teknik Komputer.\n",
            "--------------------\n",
            "ID Mahasiswa: MHS001\n",
            "Jurusan: Teknik Komputer\n",
            "\n",
            "Usia mahasiswa Dewi: 20\n"
          ]
        }
      ]
    },
    {
      "cell_type": "markdown",
      "source": [
        "### Praktikum 03: Method Overriding dan super()"
      ],
      "metadata": {
        "id": "zefUS169hJkN"
      }
    },
    {
      "cell_type": "code",
      "source": [
        "# Kelas Induk\n",
        "class Hewan:\n",
        "    def __init__(self, nama):\n",
        "        self.nama = nama\n",
        "\n",
        "    def bersuara(self):\n",
        "        print(f\"{self.nama} mengeluarkan suara generik.\")\n",
        "\n",
        "    def tampilkan_info(self):\n",
        "        print(f\"Ini adalah hewan bernama {self.nama}.\")\n",
        "\n",
        "# Kelas Anak\n",
        "class Kucing(Hewan):\n",
        "    def __init__(self, nama, ras):\n",
        "        super().__init__(nama) # Panggilan init induk\n",
        "        self.ras = ras\n",
        "\n",
        "    # Method Override untuk bersuara\n",
        "    def bersuara(self):\n",
        "        print(f\"{self.nama} mengeong: Meow!\")\n",
        "\n",
        "    # Method Override untuk tampilkan_info, memanggil versi induk\n",
        "    def tampilkan_info(self):\n",
        "        super().tampilkan_info() # Panggil implementasi dari Hewan\n",
        "        print(f\"Ini adalah kucing ras {self.ras}.\") # Tambahkan info spesifik\n",
        "\n",
        "# -- Kode Utama --\n",
        "if __name__ == \"__main__\":\n",
        "    hewan_umum = Hewan(\"Makhluk\")\n",
        "    kucing_persia = Kucing(\"Puspus\", \"Persia\")\n",
        "\n",
        "    print(\"Info Hewan Umum:\")\n",
        "    hewan_umum.tampilkan_info()\n",
        "    hewan_umum.bersuara()\n",
        "    print(\"-\" * 20)\n",
        "\n",
        "    print(\"Info Kucing Persia:\")\n",
        "    kucing_persia.tampilkan_info() # Akan memanggil versi Kucing\n",
        "    kucing_persia.bersuara() # Akan memanggil versi Kucing"
      ],
      "metadata": {
        "colab": {
          "base_uri": "https://localhost:8080/"
        },
        "id": "hWds6p0chPdu",
        "outputId": "b9d09867-c464-49d0-bc63-753bf6ea4ebe"
      },
      "execution_count": null,
      "outputs": [
        {
          "output_type": "stream",
          "name": "stdout",
          "text": [
            "Info Hewan Umum:\n",
            "Ini adalah hewan bernama Makhluk.\n",
            "Makhluk mengeluarkan suara generik.\n",
            "--------------------\n",
            "Info Kucing Persia:\n",
            "Ini adalah hewan bernama Puspus.\n",
            "Ini adalah kucing ras Persia.\n",
            "Puspus mengeong: Meow!\n"
          ]
        }
      ]
    },
    {
      "cell_type": "markdown",
      "source": [
        "### Praktikum 04: Multi-level Inheritance (Pewarisan Bertingkat)"
      ],
      "metadata": {
        "id": "ANBBf-IbnbIv"
      }
    },
    {
      "cell_type": "code",
      "source": [
        "# Kelas Induk 1\n",
        "class Organisme:\n",
        "    def __init__(self, nama):\n",
        "      self.nama = nama\n",
        "      print(f\"Organisme  '{self.nama}' diciptakan.\")\n",
        "\n",
        "    def bernapas(self):\n",
        "      print(f\"{self.nama} sedang bernapas.\")\n",
        "\n",
        "# Kelas Anak Level 1 (mewarisi dari Organisme)\n",
        "class Hewan(Organisme):\n",
        "    def __init__(self, nama, jenis_makanan):\n",
        "      super().__init__(nama) # Panggil init Organisme\n",
        "      self.jenis_makanan = jenis_makanan\n",
        "      print(f\"Hewan '{self.nama}' adalah {self.jenis_makanan}.\")\n",
        "\n",
        "    def bergerak(self):\n",
        "      print(f\"{self.nama} sedang bergerak.\")\n",
        "\n",
        "# Kelas Anak Level 2 (mewarisi dari Hewan)\n",
        "class Mamalia(Hewan):\n",
        "    def __init__(self, nama, jenis_makanan, jumlah_kaki):\n",
        "      super().__init__(nama, jenis_makanan) # Panggil init Hewan\n",
        "      self.jumlah_kaki = jumlah_kaki\n",
        "      print(f\"Mamalia '{self.nama}' memiliki {self.jumlah_kaki} kaki.\")\n",
        "\n",
        "    def menyusui(self):\n",
        "      print(f\"{self.nama} sedang menyususi.\")\n",
        "\n",
        "# --- Kode Utama ---\n",
        "if __name__ == \"__main__\":\n",
        "    kucing = Mamalia(\"Kucing Persia\", \"Karnifora\", 4)\n",
        "    print(\"-\" * 20)\n",
        "\n",
        "    # Memanggil metode dari kelas Mamalia\n",
        "    kucing.menyusui()\n",
        "\n",
        "    # Memanggil metode yang diwariskan dari kelas Hewan\n",
        "    kucing.bergerak()\n",
        "    print(f\"Jenis makanan: {kucing.jenis_makanan}\")\n",
        "\n",
        "    # Memanggil metode yang di wariskan dari kelas Organisme\n",
        "    kucing.bernapas()\n",
        "    print(f\"Nama organisme: {kucing.nama}\")"
      ],
      "metadata": {
        "colab": {
          "base_uri": "https://localhost:8080/"
        },
        "id": "oxIPZM1engkt",
        "outputId": "77894960-da0f-4b82-d042-401a6ba7f2eb"
      },
      "execution_count": null,
      "outputs": [
        {
          "output_type": "stream",
          "name": "stdout",
          "text": [
            "Organisme  'Kucing Persia' diciptakan.\n",
            "Hewan 'Kucing Persia' adalah Karnifora.\n",
            "Mamalia 'Kucing Persia' memiliki 4 kaki.\n",
            "--------------------\n",
            "Kucing Persia sedang menyususi.\n",
            "Kucing Persia sedang bergerak.\n",
            "Jenis makanan: Karnifora\n",
            "Kucing Persia sedang bernapas.\n",
            "Nama organisme: Kucing Persia\n"
          ]
        }
      ]
    }
  ]
}